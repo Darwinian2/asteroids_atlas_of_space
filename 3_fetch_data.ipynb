{
 "cells": [
  {
   "cell_type": "code",
   "execution_count": 1,
   "metadata": {},
   "outputs": [
    {
     "output_type": "stream",
     "name": "stdout",
     "text": [
      "Author: ELEANOR LUTZ\n\nPython implementation: CPython\nPython version       : 3.9.3\nIPython version      : 7.22.0\n\nCompiler    : MSC v.1928 64 bit (AMD64)\nOS          : Windows\nRelease     : 10\nMachine     : AMD64\nProcessor   : AMD64 Family 23 Model 96 Stepping 1, AuthenticAMD\nCPU cores   : 12\nArchitecture: 64bit\n\nsys      : 3.9.3 (tags/v3.9.3:e723086, Apr  2 2021, 11:35:20) [MSC v.1928 64 bit (AMD64)]\nwatermark: 2.2.0\n\n"
     ]
    }
   ],
   "source": [
    "# Watermark is not required for this code, but is included for information. \n",
    "import watermark\n",
    "%load_ext watermark\n",
    "%watermark -a \"ELEANOR LUTZ\" -d -v -iv -m"
   ]
  },
  {
   "cell_type": "code",
   "execution_count": 5,
   "metadata": {},
   "outputs": [],
   "source": [
    "import numpy as np\n",
    "import pandas as pd\n",
    "import time, urllib, os.path"
   ]
  },
  {
   "cell_type": "code",
   "execution_count": 15,
   "metadata": {},
   "outputs": [],
   "source": [
    "def get_link(objid, start_time, stop_time, stepsize, center):\n",
    "    link = \"https://ssd.jpl.nasa.gov/horizons_batch.cgi?batch=1\"\n",
    "    link += \"&COMMAND='\"+ str(objid) +\"'\"\n",
    "    link += \"&MAKE_EPHEM='YES'\"\n",
    "    link += \"&TABLE_TYPE='VECTORS'\"\n",
    "    link += \"&START_TIME='\"+ start_time +\"'\"\n",
    "    link += \"&STOP_TIME='\"+ stop_time +\"'\"\n",
    "    link += \"&STEP_SIZE='\"+ stepsize + \"'\"\n",
    "    link += \"&OUT_UNITS='KM-S'\"\n",
    "    link += \"&REF_PLANE='ECLIPTIC'\"\n",
    "    link += \"&REF_SYSTEM='J2000'\"\n",
    "    link += \"&VEC_LABELS='YES'\"\n",
    "    link += \"&VEC_DELTA_T='NO'\"\n",
    "    link += \"&OBJ_DATA='YES'\"\n",
    "    link += \"&VEC_TABLE='1'\"\n",
    "    link += \"&VECT_CORR='NONE'\"\n",
    "    link += \"&CSV_FORMAT='YES'\"\n",
    "    link += \"&CENTER='\"+ center + \"'\"\n",
    "    return(link)\n",
    "\n",
    "def get_data(link, savename, objid):\n",
    "    values = {'name':'Edward Bryan Cox', 'location':'Epworth, England', 'language':'Python 3.9.3'}\n",
    "    headers = { 'User-Agent':\"Atlas_of_Space_bot\" }\n",
    "    data = urllib.parse.urlencode(values)\n",
    "    \n",
    "    if (values.get(\"name\") == \"Eleanor Lutz\") or (\"Eleanor Lutz\" in headers.get(\"User-Agent\")): \n",
    "        raise ValueError(\"Please edit the scraper with your own contact information\")\n",
    "    \n",
    "    if not os.path.isfile(savename):\n",
    "        try:\n",
    "            output = urllib.request.urlopen(link, data, headers)\n",
    "            output = [x.decode('UTF-8') for x in output]\n",
    "            output = [x.strip() for x in output]\n",
    "\n",
    "            if '$$SOE' in output:\n",
    "                header = output[output.index('$$SOE')-2].split(',')\n",
    "                header = [x.lstrip() for x in header]\n",
    "\n",
    "                content = output[output.index('$$SOE')+1 : output.index('$$EOE')-1]\n",
    "                content = [x.split(',') for x in content]\n",
    "\n",
    "                df = pd.DataFrame(content, columns=header)\n",
    "                df.to_csv(savename, index=False)\n",
    "            else: \n",
    "                print(objid, 'request successful but output not expected format')\n",
    "                print(link)\n",
    "        except:\n",
    "            print(objid, 'request unsuccessful')\n",
    "            print(link)\n",
    "\n",
    "def query_horizons(readname, savename_head, stepsize='1d', center='@sun'):\n",
    "    if not os.path.isfile(savename_head[:-1]+\".zip\"):\n",
    "        print(\"---\\nNow analyzing\", readname)\n",
    "        df = pd.read_csv(readname, low_memory=False)\n",
    "\n",
    "        # Check for duplicated names before running script\n",
    "        dupl = df.duplicated('horizons')\n",
    "        print(sum(dupl), 'names in the series are duplicated, of', len(df), 'total')\n",
    "        if sum(dupl) > 1:\n",
    "            print(df[dupl == True])\n",
    "\n",
    "        # Check to see if any names are NaN values\n",
    "        print(df['horizons'].astype(str).replace(' ', '').isnull().sum(), \n",
    "                  'null values in horizons query list')\n",
    "\n",
    "        for index, row in df.iterrows():\n",
    "            if (index % 500 == 0) and (index != 0):\n",
    "                print(index, 'items analyzed!')\n",
    "            start_time = str(row['begin_time']).replace(' ', '')\n",
    "            stop_time = str(row['end_time']).replace(' ', '')\n",
    "            objid = str(row['horizons']).replace(' ', '')\n",
    "            savename = savename_head + objid + '.csv'\n",
    "\n",
    "            if not os.path.isfile(savename):\n",
    "                link = get_link(objid, start_time, stop_time, stepsize, center)\n",
    "                get_data(link, savename, objid)\n",
    "\n",
    "                # sleep to be polite to HORIZONS servers\n",
    "                sleeptime = min(20, max(1, np.random.normal(loc=10, scale=5)))\n",
    "                time.sleep(sleeptime) \n",
    "\n",
    "                if index == 0:\n",
    "                    # Save parameters of 1st item to txt file for later checking\n",
    "                    txtname = savename_head + 'PARAMETERS.txt'\n",
    "                    with open(txtname, \"w\") as f:\n",
    "                        f.write(link)\n",
    "    else: \n",
    "        raise ValueError(\"Please unzip the data files that already exist\")\n",
    "    print('ALL ITEMS ANALYZED!')"
   ]
  },
  {
   "cell_type": "code",
   "execution_count": 16,
   "metadata": {
    "scrolled": false
   },
   "outputs": [
    {
     "output_type": "stream",
     "name": "stdout",
     "text": [
      "---\nNow analyzing ./data/moons.csv\n0 names in the series are duplicated, of 185 total\n0 null values in horizons query list\n"
     ]
    },
    {
     "output_type": "error",
     "ename": "ValueError",
     "evalue": "Please edit the scraper with your own contact information",
     "traceback": [
      "\u001b[1;31m---------------------------------------------------------------------------\u001b[0m",
      "\u001b[1;31mValueError\u001b[0m                                Traceback (most recent call last)",
      "\u001b[1;32m<ipython-input-16-24513172c980>\u001b[0m in \u001b[0;36m<module>\u001b[1;34m\u001b[0m\n\u001b[0;32m      7\u001b[0m \u001b[0mreadname\u001b[0m \u001b[1;33m=\u001b[0m \u001b[1;34m'./data/moons.csv'\u001b[0m\u001b[1;33m\u001b[0m\u001b[1;33m\u001b[0m\u001b[0m\n\u001b[0;32m      8\u001b[0m \u001b[0msavename_head\u001b[0m \u001b[1;33m=\u001b[0m \u001b[1;34m'./data/moons/'\u001b[0m\u001b[1;33m\u001b[0m\u001b[1;33m\u001b[0m\u001b[0m\n\u001b[1;32m----> 9\u001b[1;33m \u001b[0mquery_horizons\u001b[0m\u001b[1;33m(\u001b[0m\u001b[0mreadname\u001b[0m\u001b[1;33m,\u001b[0m \u001b[0msavename_head\u001b[0m\u001b[1;33m,\u001b[0m \u001b[0mstepsize\u001b[0m\u001b[1;33m=\u001b[0m\u001b[0mstepsize\u001b[0m\u001b[1;33m,\u001b[0m \u001b[0mcenter\u001b[0m\u001b[1;33m=\u001b[0m\u001b[0mcenter\u001b[0m\u001b[1;33m)\u001b[0m\u001b[1;33m\u001b[0m\u001b[1;33m\u001b[0m\u001b[0m\n\u001b[0m\u001b[0;32m     10\u001b[0m \u001b[1;33m\u001b[0m\u001b[0m\n\u001b[0;32m     11\u001b[0m \u001b[0mreadname\u001b[0m \u001b[1;33m=\u001b[0m \u001b[1;34m'./data/planets.csv'\u001b[0m\u001b[1;33m\u001b[0m\u001b[1;33m\u001b[0m\u001b[0m\n",
      "\u001b[1;32m<ipython-input-15-76e67366e7b9>\u001b[0m in \u001b[0;36mquery_horizons\u001b[1;34m(readname, savename_head, stepsize, center)\u001b[0m\n\u001b[0;32m     74\u001b[0m             \u001b[1;32mif\u001b[0m \u001b[1;32mnot\u001b[0m \u001b[0mos\u001b[0m\u001b[1;33m.\u001b[0m\u001b[0mpath\u001b[0m\u001b[1;33m.\u001b[0m\u001b[0misfile\u001b[0m\u001b[1;33m(\u001b[0m\u001b[0msavename\u001b[0m\u001b[1;33m)\u001b[0m\u001b[1;33m:\u001b[0m\u001b[1;33m\u001b[0m\u001b[1;33m\u001b[0m\u001b[0m\n\u001b[0;32m     75\u001b[0m                 \u001b[0mlink\u001b[0m \u001b[1;33m=\u001b[0m \u001b[0mget_link\u001b[0m\u001b[1;33m(\u001b[0m\u001b[0mobjid\u001b[0m\u001b[1;33m,\u001b[0m \u001b[0mstart_time\u001b[0m\u001b[1;33m,\u001b[0m \u001b[0mstop_time\u001b[0m\u001b[1;33m,\u001b[0m \u001b[0mstepsize\u001b[0m\u001b[1;33m,\u001b[0m \u001b[0mcenter\u001b[0m\u001b[1;33m)\u001b[0m\u001b[1;33m\u001b[0m\u001b[1;33m\u001b[0m\u001b[0m\n\u001b[1;32m---> 76\u001b[1;33m                 \u001b[0mget_data\u001b[0m\u001b[1;33m(\u001b[0m\u001b[0mlink\u001b[0m\u001b[1;33m,\u001b[0m \u001b[0msavename\u001b[0m\u001b[1;33m,\u001b[0m \u001b[0mobjid\u001b[0m\u001b[1;33m)\u001b[0m\u001b[1;33m\u001b[0m\u001b[1;33m\u001b[0m\u001b[0m\n\u001b[0m\u001b[0;32m     77\u001b[0m \u001b[1;33m\u001b[0m\u001b[0m\n\u001b[0;32m     78\u001b[0m                 \u001b[1;31m# sleep to be polite to HORIZONS servers\u001b[0m\u001b[1;33m\u001b[0m\u001b[1;33m\u001b[0m\u001b[1;33m\u001b[0m\u001b[0m\n",
      "\u001b[1;32m<ipython-input-15-76e67366e7b9>\u001b[0m in \u001b[0;36mget_data\u001b[1;34m(link, savename, objid)\u001b[0m\n\u001b[0;32m     25\u001b[0m \u001b[1;33m\u001b[0m\u001b[0m\n\u001b[0;32m     26\u001b[0m     \u001b[1;32mif\u001b[0m \u001b[1;33m(\u001b[0m\u001b[0mvalues\u001b[0m\u001b[1;33m.\u001b[0m\u001b[0mget\u001b[0m\u001b[1;33m(\u001b[0m\u001b[1;34m\"name\"\u001b[0m\u001b[1;33m)\u001b[0m \u001b[1;33m==\u001b[0m \u001b[1;34m\"Eleanor Lutz\"\u001b[0m\u001b[1;33m)\u001b[0m \u001b[1;32mor\u001b[0m \u001b[1;33m(\u001b[0m\u001b[1;34m\"Eleanor Lutz\"\u001b[0m \u001b[1;32min\u001b[0m \u001b[0mheaders\u001b[0m\u001b[1;33m.\u001b[0m\u001b[0mget\u001b[0m\u001b[1;33m(\u001b[0m\u001b[1;34m\"User-Agent\"\u001b[0m\u001b[1;33m)\u001b[0m\u001b[1;33m)\u001b[0m\u001b[1;33m:\u001b[0m\u001b[1;33m\u001b[0m\u001b[1;33m\u001b[0m\u001b[0m\n\u001b[1;32m---> 27\u001b[1;33m         \u001b[1;32mraise\u001b[0m \u001b[0mValueError\u001b[0m\u001b[1;33m(\u001b[0m\u001b[1;34m\"Please edit the scraper with your own contact information\"\u001b[0m\u001b[1;33m)\u001b[0m\u001b[1;33m\u001b[0m\u001b[1;33m\u001b[0m\u001b[0m\n\u001b[0m\u001b[0;32m     28\u001b[0m \u001b[1;33m\u001b[0m\u001b[0m\n\u001b[0;32m     29\u001b[0m     \u001b[1;32mif\u001b[0m \u001b[1;32mnot\u001b[0m \u001b[0mos\u001b[0m\u001b[1;33m.\u001b[0m\u001b[0mpath\u001b[0m\u001b[1;33m.\u001b[0m\u001b[0misfile\u001b[0m\u001b[1;33m(\u001b[0m\u001b[0msavename\u001b[0m\u001b[1;33m)\u001b[0m\u001b[1;33m:\u001b[0m\u001b[1;33m\u001b[0m\u001b[1;33m\u001b[0m\u001b[0m\n",
      "\u001b[1;31mValueError\u001b[0m: Please edit the scraper with your own contact information"
     ]
    }
   ],
   "source": [
    "'''\n",
    "Get orbital coordinates from HORIZONS server\n",
    "'''\n",
    "center = '@sun'\n",
    "stepsize = '1d'\n",
    "\n",
    "readname = './data/moons.csv'\n",
    "savename_head = './data/moons/'\n",
    "query_horizons(readname, savename_head, stepsize=stepsize, center=center)\n",
    "\n",
    "readname = './data/planets.csv'\n",
    "savename_head = './data/planets/'\n",
    "query_horizons(readname, savename_head, stepsize=stepsize, center=center)\n",
    "\n",
    "readname = './data/large_asteroids.csv'\n",
    "savename_head = './data/large_asteroids/'\n",
    "query_horizons(readname, savename_head, stepsize=stepsize, center=center)\n",
    "\n",
    "readname = './data/large_comets.csv'\n",
    "savename_head = './data/large_comets/'\n",
    "query_horizons(readname, savename_head, stepsize=stepsize, center=center)\n",
    "\n",
    "readname = './data/small_asteroids.csv'\n",
    "savename_head = './data/small_asteroids/'\n",
    "query_horizons(readname, savename_head, stepsize=stepsize, center=center)\n",
    "\n",
    "readname = './data/any_outer_asteroids.csv'\n",
    "savename_head = './data/any_outer_asteroids/'\n",
    "query_horizons(readname, savename_head, stepsize=stepsize, center=center)\n",
    "\n",
    "readname = './data/any_inner_asteroids.csv'\n",
    "savename_head = './data/any_inner_asteroids/'\n",
    "query_horizons(readname, savename_head, stepsize=stepsize, center=center)"
   ]
  },
  {
   "cell_type": "code",
   "execution_count": null,
   "metadata": {},
   "outputs": [],
   "source": []
  }
 ],
 "metadata": {
  "kernelspec": {
   "name": "python393jvsc74a57bd0ac59ebe37160ed0dfa835113d9b8498d9f09ceb179beaac4002f036b9467c963",
   "display_name": "Python 3.9.3 64-bit"
  },
  "language_info": {
   "codemirror_mode": {
    "name": "ipython",
    "version": 3
   },
   "file_extension": ".py",
   "mimetype": "text/x-python",
   "name": "python",
   "nbconvert_exporter": "python",
   "pygments_lexer": "ipython3",
   "version": "3.9.3-final"
  }
 },
 "nbformat": 4,
 "nbformat_minor": 2
}